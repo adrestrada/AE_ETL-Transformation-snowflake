{
 "cells": [
  {
   "cell_type": "markdown",
   "id": "019ab72a-48e9-40ef-8c8b-dc261e90f290",
   "metadata": {},
   "source": [
    "## ETL simple que implica extraer datos de una fuente, aplicar una transformación con Python y cargar los datos en una tabla de Snowflake.(herrameintas databricks, python, Snow SQL)"
   ]
  },
  {
   "cell_type": "code",
   "execution_count": null,
   "id": "1434ff19-154f-4b2f-ae65-433fde297e45",
   "metadata": {},
   "outputs": [],
   "source": [
    "# Importar bibliotecas necesarias\n",
    "import snowflake.connector\n",
    "from pyspark.sql import SparkSession\n",
    "\n",
    "# Inicializar la sesión de Spark\n",
    "spark = SparkSession.builder.appName(\"ETL\").getOrCreate()\n",
    "\n",
    "# Configurar las credenciales de Snowflake\n",
    "snowflake_options = {\n",
    "    \"sfURL\": \"https://your-account.snowflakecomputing.com\",\n",
    "    \"sfDatabase\": \"your-database\",\n",
    "    \"sfWarehouse\": \"your-warehouse\",\n",
    "    \"sfRole\": \"your-role\",\n",
    "    \"sfSchema\": \"your-schema\",\n",
    "    \"sfWarehouse\": \"your-warehouse\",\n",
    "    \"sfDatabase\": \"your-database\",\n",
    "    \"sfWarehouse\": \"your-warehouse\",\n",
    "    \"sfRole\": \"your-role\"\n",
    "}\n",
    "\n",
    "# Definir una consulta SQL para extraer datos\n",
    "query = \"\"\"\n",
    "    SELECT column1, column2\n",
    "    FROM your_source_table\n",
    "    WHERE date_column >= '2023-01-01'\n",
    "\"\"\"\n",
    "\n",
    "# Cargar datos desde Snowflake a Spark DataFrame\n",
    "df = spark.read.format(\"snowflake\").options(**snowflake_options).option(\"query\", query).load()\n",
    "\n",
    "# Realizar transformaciones en los datos (por ejemplo, filtrar, agregar columnas, etc.)\n",
    "df_transformed = df.filter(df[\"column1\"] > 100)\n",
    "\n",
    "# Conectar a Snowflake y cargar los datos transformados en una tabla\n",
    "with snowflake.connector.connect(**snowflake_options) as conn:\n",
    "    with conn.cursor() as cursor:\n",
    "        cursor.execute(\"USE WAREHOUSE {}\".format(snowflake_options[\"sfWarehouse\"]))\n",
    "        cursor.execute(\"USE DATABASE {}\".format(snowflake_options[\"sfDatabase\"]))\n",
    "        cursor.execute(\"USE SCHEMA {}\".format(snowflake_options[\"sfSchema\"]))\n",
    "        cursor.execute(\"TRUNCATE TABLE your_target_table\")\n",
    "        df_transformed.write.mode(\"append\").format(\"snowflake\").options(**snowflake_options).save()\n",
    "\n",
    "# Detener la sesión de Spark\n",
    "spark.stop()\n"
   ]
  }
 ],
 "metadata": {
  "kernelspec": {
   "display_name": "Python 3 (ipykernel)",
   "language": "python",
   "name": "python3"
  },
  "language_info": {
   "codemirror_mode": {
    "name": "ipython",
    "version": 3
   },
   "file_extension": ".py",
   "mimetype": "text/x-python",
   "name": "python",
   "nbconvert_exporter": "python",
   "pygments_lexer": "ipython3",
   "version": "3.11.3"
  }
 },
 "nbformat": 4,
 "nbformat_minor": 5
}
